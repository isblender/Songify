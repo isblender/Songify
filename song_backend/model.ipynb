{
 "cells": [
  {
   "cell_type": "code",
   "execution_count": 3,
   "metadata": {},
   "outputs": [],
   "source": [
    "import pandas as pd\n",
    "from transformers import AutoImageProcessor, AutoModel\n"
   ]
  },
  {
   "cell_type": "code",
   "execution_count": 4,
   "metadata": {},
   "outputs": [],
   "source": [
    "from datasets import load_dataset\n",
    "\n",
    "ds = load_dataset(\"D3STRON/music_lyrics_500k\")"
   ]
  },
  {
   "cell_type": "code",
   "execution_count": 5,
   "metadata": {},
   "outputs": [],
   "source": [
    "import pandas as pd"
   ]
  },
  {
   "cell_type": "code",
   "execution_count": 5,
   "metadata": {},
   "outputs": [],
   "source": [
    "df = pd.DataFrame(ds['train'])"
   ]
  },
  {
   "cell_type": "code",
   "execution_count": 6,
   "metadata": {},
   "outputs": [
    {
     "data": {
      "text/html": [
       "<div>\n",
       "<style scoped>\n",
       "    .dataframe tbody tr th:only-of-type {\n",
       "        vertical-align: middle;\n",
       "    }\n",
       "\n",
       "    .dataframe tbody tr th {\n",
       "        vertical-align: top;\n",
       "    }\n",
       "\n",
       "    .dataframe thead th {\n",
       "        text-align: right;\n",
       "    }\n",
       "</style>\n",
       "<table border=\"1\" class=\"dataframe\">\n",
       "  <thead>\n",
       "    <tr style=\"text-align: right;\">\n",
       "      <th></th>\n",
       "      <th>Lyric</th>\n",
       "      <th>genre</th>\n",
       "      <th>keywords</th>\n",
       "      <th>__index_level_0__</th>\n",
       "    </tr>\n",
       "  </thead>\n",
       "  <tbody>\n",
       "    <tr>\n",
       "      <th>0</th>\n",
       "      <td>See me, ancient one! Dismal Tuat, Nergal unsaf...</td>\n",
       "      <td>Metal</td>\n",
       "      <td>setekh, tuat, shade, thoth, nergal</td>\n",
       "      <td>0</td>\n",
       "    </tr>\n",
       "    <tr>\n",
       "      <th>1</th>\n",
       "      <td>Feels like Im covered in lies so turn off the ...</td>\n",
       "      <td>Metal</td>\n",
       "      <td>lie, neverinding, looken, covered, mistrust</td>\n",
       "      <td>1</td>\n",
       "    </tr>\n",
       "    <tr>\n",
       "      <th>2</th>\n",
       "      <td>Works of art, painted black Magniloquent, blee...</td>\n",
       "      <td>Metal</td>\n",
       "      <td>magniloquent, provocative, palate, contrasting...</td>\n",
       "      <td>2</td>\n",
       "    </tr>\n",
       "    <tr>\n",
       "      <th>3</th>\n",
       "      <td>Into the cage like an animal You must survive ...</td>\n",
       "      <td>Metal</td>\n",
       "      <td>virus, trophier, cage, rotteness, kill</td>\n",
       "      <td>3</td>\n",
       "    </tr>\n",
       "    <tr>\n",
       "      <th>4</th>\n",
       "      <td>Paralysed in pleasure I hear you call Lost my ...</td>\n",
       "      <td>Metal</td>\n",
       "      <td>cum, disgust, tickle, extremity, suck</td>\n",
       "      <td>4</td>\n",
       "    </tr>\n",
       "  </tbody>\n",
       "</table>\n",
       "</div>"
      ],
      "text/plain": [
       "                                               Lyric  genre  \\\n",
       "0  See me, ancient one! Dismal Tuat, Nergal unsaf...  Metal   \n",
       "1  Feels like Im covered in lies so turn off the ...  Metal   \n",
       "2  Works of art, painted black Magniloquent, blee...  Metal   \n",
       "3  Into the cage like an animal You must survive ...  Metal   \n",
       "4  Paralysed in pleasure I hear you call Lost my ...  Metal   \n",
       "\n",
       "                                            keywords  __index_level_0__  \n",
       "0                 setekh, tuat, shade, thoth, nergal                  0  \n",
       "1        lie, neverinding, looken, covered, mistrust                  1  \n",
       "2  magniloquent, provocative, palate, contrasting...                  2  \n",
       "3             virus, trophier, cage, rotteness, kill                  3  \n",
       "4              cum, disgust, tickle, extremity, suck                  4  "
      ]
     },
     "execution_count": 6,
     "metadata": {},
     "output_type": "execute_result"
    }
   ],
   "source": [
    "df.head()"
   ]
  },
  {
   "cell_type": "markdown",
   "metadata": {},
   "source": [
    "## CUSTOMIZING THE MODEL\n",
    "Adjusting the labels to add more sentiments"
   ]
  },
  {
   "cell_type": "code",
   "execution_count": null,
   "metadata": {},
   "outputs": [
    {
     "name": "stderr",
     "output_type": "stream",
     "text": [
      "/opt/miniconda3/envs/env/lib/python3.11/site-packages/tqdm/auto.py:21: TqdmWarning: IProgress not found. Please update jupyter and ipywidgets. See https://ipywidgets.readthedocs.io/en/stable/user_install.html\n",
      "  from .autonotebook import tqdm as notebook_tqdm\n",
      "/opt/miniconda3/envs/env/lib/python3.11/site-packages/huggingface_hub/file_download.py:797: FutureWarning: `resume_download` is deprecated and will be removed in version 1.0.0. Downloads always resume when possible. If you want to force a new download, use `force_download=True`.\n",
      "  warnings.warn(\n"
     ]
    }
   ],
   "source": [
    "from transformers import BlipProcessor, BlipForConditionalGeneration, pipeline\n",
    "from PIL import Image\n",
    "import requests\n",
    "import torch\n",
    "\n",
    "# Step 1: Load the BLIP model and processor for image captioning\n",
    "blip_processor = BlipProcessor.from_pretrained(\"Salesforce/blip-image-captioning-large\")\n",
    "blip_model = BlipForConditionalGeneration.from_pretrained(\"Salesforce/blip-image-captioning-large\")"
   ]
  },
  {
   "cell_type": "code",
   "execution_count": 9,
   "metadata": {},
   "outputs": [],
   "source": [
    "# Original labels from GoEmotions\n",
    "original_labels = [\n",
    "    \"admiration\", \"amusement\", \"anger\", \"annoyance\", \"approval\", \"caring\",\n",
    "    \"confusion\", \"curiosity\", \"desire\", \"disappointment\", \"disapproval\",\n",
    "    \"disgust\", \"embarrassment\", \"excitement\", \"fear\", \"gratitude\", \"grief\",\n",
    "    \"joy\", \"love\", \"nervousness\", \"optimism\", \"pride\", \"realization\",\n",
    "    \"relief\", \"remorse\", \"sadness\", \"surprise\", \"neutral\"\n",
    "]\n",
    "\n",
    "# Custom label mapping\n",
    "custom_label_mapping = {\n",
    "    \"admiration\": \"admiration\",\n",
    "    \"amusement\": \"joy\",\n",
    "    \"anger\": \"anger\",\n",
    "    \"annoyance\": \"anger\",  # Combine with anger\n",
    "    \"approval\": \"admiration\",\n",
    "    \"caring\": \"caring\",\n",
    "    \"confusion\": \"confusion\",\n",
    "    \"curiosity\": \"curiosity\",\n",
    "    \"desire\": \"desire\",\n",
    "    \"disappointment\": \"sadness\",\n",
    "    \"disapproval\": \"anger\",  # Combine with anger\n",
    "    \"disgust\": None,         # Remove this label\n",
    "    \"embarrassment\": None,   # Remove this label\n",
    "    \"excitement\": \"joy\",\n",
    "    \"fear\": \"fear\",\n",
    "    \"gratitude\": \"gratitude\",\n",
    "    \"grief\": \"sadness\",      # Combine with sadness\n",
    "    \"joy\": \"joy\",\n",
    "    \"love\": \"love\",\n",
    "    \"nervousness\": None,     # Remove this label\n",
    "    \"optimism\": \"optimism\",\n",
    "    \"pride\": \"pride\",\n",
    "    \"realization\": None,     # Remove this label\n",
    "    \"relief\": None,          # Remove this label\n",
    "    \"remorse\": \"sadness\",    # Combine with sadness\n",
    "    \"sadness\": \"sadness\",\n",
    "    \"surprise\": \"surprise\",\n",
    "    \"neutral\": None          # Remove this label\n",
    "}\n"
   ]
  },
  {
   "cell_type": "code",
   "execution_count": 15,
   "metadata": {},
   "outputs": [
    {
     "name": "stderr",
     "output_type": "stream",
     "text": [
      "/opt/miniconda3/envs/env/lib/python3.11/site-packages/huggingface_hub/file_download.py:797: FutureWarning: `resume_download` is deprecated and will be removed in version 1.0.0. Downloads always resume when possible. If you want to force a new download, use `force_download=True`.\n",
      "  warnings.warn(\n",
      "/opt/miniconda3/envs/env/lib/python3.11/site-packages/transformers/pipelines/text_classification.py:104: UserWarning: `return_all_scores` is now deprecated,  if want a similar functionality use `top_k=None` instead of `return_all_scores=True` or `top_k=1` instead of `return_all_scores=False`.\n",
      "  warnings.warn(\n"
     ]
    }
   ],
   "source": [
    "from transformers import pipeline\n",
    "\n",
    "# Load the model and tokenizer\n",
    "classifier = pipeline(\"text-classification\", model=\"SamLowe/roberta-base-go_emotions\", return_all_scores=True)\n"
   ]
  },
  {
   "cell_type": "markdown",
   "metadata": {},
   "source": [
    "## Create the song dictionary\n",
    "Need to get the sentiment for each of the songs"
   ]
  },
  {
   "cell_type": "markdown",
   "metadata": {},
   "source": [
    "## UPLOAD THE IMAGE INTO HERE\n",
    "Gets the caption for the image then gets the sentiment from the caption"
   ]
  },
  {
   "cell_type": "code",
   "execution_count": 16,
   "metadata": {},
   "outputs": [
    {
     "name": "stdout",
     "output_type": "stream",
     "text": [
      "Generated Caption: a man in a blue shirt giving a thumbs up sign\n",
      "[{'label': 'admiration', 'score': 0.2842830117966604}, {'label': 'joy', 'score': 0.012267301558247623}, {'label': 'anger', 'score': 0.0038261737135324935}, {'label': 'anger', 'score': 0.014557290502975391}, {'label': 'admiration', 'score': 0.22689622101091836}, {'label': 'caring', 'score': 0.007098684865581685}, {'label': 'confusion', 'score': 0.0031526778394633487}, {'label': 'curiosity', 'score': 0.002357950861995363}, {'label': 'desire', 'score': 0.004791478377289424}, {'label': 'sadness', 'score': 0.003613605117013111}, {'label': 'anger', 'score': 0.0034458970852845132}, {'label': 'joy', 'score': 0.1707738007153008}, {'label': 'fear', 'score': 0.0027041990366581154}, {'label': 'gratitude', 'score': 0.053992325263740676}, {'label': 'sadness', 'score': 0.0014053427981231604}, {'label': 'joy', 'score': 0.13129030153039983}, {'label': 'love', 'score': 0.01308224277084185}, {'label': 'optimism', 'score': 0.013984372816536547}, {'label': 'pride', 'score': 0.03564327886347035}, {'label': 'sadness', 'score': 0.0012953652156807468}, {'label': 'sadness', 'score': 0.001859871402297224}, {'label': 'surprise', 'score': 0.007678606857989011}]\n"
     ]
    }
   ],
   "source": [
    "# Step 3: Load and process the image\n",
    "image_url = \"https://thumbs.dreamstime.com/b/happy-man-thumbs-up-sign-full-length-portrait-white-background-showing-31416426.jpg\"\n",
    "image = Image.open(requests.get(image_url, stream=True).raw)\n",
    "\n",
    "# Step 4: Generate a caption for the image\n",
    "inputs = blip_processor(image, return_tensors=\"pt\")\n",
    "with torch.no_grad():\n",
    "    output = blip_model.generate(**inputs)\n",
    "caption = blip_processor.decode(output[0], skip_special_tokens=True)\n",
    "\n",
    "print(\"Generated Caption:\", caption)\n",
    "\n",
    "# Step 5: Analyze the sentiment of the caption\n",
    "predictions = classifier(caption)[0] \n",
    "\n",
    "custom_predictions = [\n",
    "    {\"label\": custom_label_mapping[pred[\"label\"]], \"score\": pred[\"score\"]}\n",
    "    for pred in predictions if custom_label_mapping.get(pred[\"label\"])\n",
    "]\n",
    "\n",
    "# Normalize scores if needed\n",
    "total_score = sum(pred[\"score\"] for pred in custom_predictions)\n",
    "for pred in custom_predictions:\n",
    "    pred[\"score\"] /= total_score\n",
    "\n",
    "print(custom_predictions)\n"
   ]
  },
  {
   "cell_type": "code",
   "execution_count": null,
   "metadata": {},
   "outputs": [],
   "source": []
  }
 ],
 "metadata": {
  "kernelspec": {
   "display_name": "env",
   "language": "python",
   "name": "python3"
  },
  "language_info": {
   "codemirror_mode": {
    "name": "ipython",
    "version": 3
   },
   "file_extension": ".py",
   "mimetype": "text/x-python",
   "name": "python",
   "nbconvert_exporter": "python",
   "pygments_lexer": "ipython3",
   "version": "3.11.8"
  }
 },
 "nbformat": 4,
 "nbformat_minor": 2
}
