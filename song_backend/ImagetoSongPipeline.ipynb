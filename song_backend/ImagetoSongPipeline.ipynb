{
 "cells": [
  {
   "cell_type": "code",
   "execution_count": 78,
   "id": "650f3753-bee2-4804-8bbb-ba53fe336268",
   "metadata": {},
   "outputs": [],
   "source": [
    "import pandas as pd "
   ]
  },
  {
   "cell_type": "code",
   "execution_count": 79,
   "id": "3d50f1b9-b4cf-42b6-a3f6-23a262510e8d",
   "metadata": {},
   "outputs": [],
   "source": [
    "ds = pd.read_csv('Syncadia_Data.csv')"
   ]
  },
  {
   "cell_type": "code",
   "execution_count": 112,
   "id": "b9d5f185-41e6-4137-9f64-94892e06b32b",
   "metadata": {},
   "outputs": [
    {
     "data": {
      "text/html": [
       "<div>\n",
       "<style scoped>\n",
       "    .dataframe tbody tr th:only-of-type {\n",
       "        vertical-align: middle;\n",
       "    }\n",
       "\n",
       "    .dataframe tbody tr th {\n",
       "        vertical-align: top;\n",
       "    }\n",
       "\n",
       "    .dataframe thead th {\n",
       "        text-align: right;\n",
       "    }\n",
       "</style>\n",
       "<table border=\"1\" class=\"dataframe\">\n",
       "  <thead>\n",
       "    <tr style=\"text-align: right;\">\n",
       "      <th></th>\n",
       "      <th>title</th>\n",
       "      <th>tag</th>\n",
       "      <th>artist</th>\n",
       "      <th>year</th>\n",
       "      <th>views</th>\n",
       "      <th>features</th>\n",
       "      <th>lyrics</th>\n",
       "      <th>language</th>\n",
       "    </tr>\n",
       "  </thead>\n",
       "  <tbody>\n",
       "    <tr>\n",
       "      <th>0</th>\n",
       "      <td>Killa Cam</td>\n",
       "      <td>rap</td>\n",
       "      <td>Cam'ron</td>\n",
       "      <td>2004</td>\n",
       "      <td>173166</td>\n",
       "      <td>{\"Cam\\\\'ron\",\"Opera Steve\"}</td>\n",
       "      <td>[Chorus: Opera Steve &amp; Cam'ron]\\nKilla Cam, Killa Cam, Cam\\nKilla Cam, Killa Cam\\nKilla Cam, Cam\\nKilla Cam, Killa Cam, Cam\\nKilla Killa Killa Cam\\nKilla Cam, Cam, Killa (Killa!)\\nKilla Cam, Killa Cam, Cam (Bases loaded)\\nKilla Cam, Killa Cam (Uh-huh)\\nKilla Cam, Cam (Santana on second, Jim on third)\\nKilla Cam, Killa Cam, Cam (I'm at bat)\\nKilla Killa Killa Cam\\nKilla Cam, Cam, Killa (I'm 'bout to hit this shit out the world)\\nKilla Cam (Ugh, Heatmakerz), Killa Cam, Cam\\nKilla Cam, Killa Cam\\nKilla Cam, Cam (Hahahaha)\\nKilla Cam, Killa Cam, Cam\\nKilla Killa Killa Cam\\nKilla Cam, Cam, Killa (We  make this shit clap)\\nKilla Cam, Killa Cam, Cam\\nKilla Cam, Killa Cam\\nKilla Cam, Cam\\nKilla Cam, Killa Cam, Cam\\nKilla Killa Killa Cam (Killa! Killa!)\\nKilla Cam, Cam, Killa\\n[Verse 1]\\nWith the goons I spar, stay in tune with ma (What up?)\\nShe like, \"Damn, this the realest since 'Kumbaya'\"\\nBomaye, Killa Cam, my Lord (My Lord)\\nStill the man with the pan, scrilla, fam, on board\\nNow bitches, they want to neuter me, niggas, they want to tutor me\\nThe hooligan in Houlihan's, maneuvering's nothing new to me\\nDoggy, I'm from the land of grind, pan-pan: gram or dime?\\nNot toes or MC when I say \"hammer time\"\\nBeef: I hammer mine, when I get my hands on nines\\nIf I had on 'Bama line, Corduroys, Cam'll shine\\nCanary burgundy: I call it \"Lemon Red\" (Red)\\nYellow diamonds in my ear, call 'em \"Lemonheads\"\\nLemonhead, end up dead, ice like Winnipeg\\nGemstone, Flintstones, you could say I'm friends with Fred\\nYou unhappy, scrappy? (What's going on, Scrappy?)\\nI got Pataki at me\\nBitches say I'm \"Tacky Daddy,\" Range look like Laffy Taffy\\n\\n[Chorus]\\nKilla Cam\\nKilla Cam Cam (sing)\\nKilla Cam Killa Cam\\nKilla Cam Cam (uhh, it's me, clap)\\nKilla Cam\\nKilla Cam Cam\\nKilla Killa Killa Cam (sing)\\nKilla Cam Cam Killa (uhh, it's me, clap)\\nKilla Cam\\nKilla Cam Cam (sing)\\nKilla Cam Killa Cam\\nKilla Cam Cam (clap, it's me)\\nKilla Cam\\nKilla Cam Cam\\nKilla Killa Killa Cam (clap)\\n(Harlem, I know y'all know about this)\\nKilla Cam Cam Killa (Killa!)\\n[Verse 2]\\nYo, I'm from where Nicky Barnes got rich as fuck\\nRich and A hit the kitchens then were pitchin' up\\nRob Base, Mase, Doug E Fresh switched it up\\nI do both, who am I to fuck tradition up? (Killa!)\\nSo I parked in a tow-away zone\\nChrome...I don't care\\nThat car a throwaway, homes (Killa!)\\nWelcome to Harlem, where you welcome to problems\\nOff of furlough, fellow felons get pardons\\nThem niggas knew we bang\\nStood out like Pootie Tang\\nSoon as the stoolie sings\\nThat when the toolie sing!\\nBang! Bang!\\nCame from that movie ring\\nSnap, crack jewelry bling\\nFlapjack, ooh he bring\\nClack-clack, \"ooh he ring!\"\\nBad rap, cuties cling\\nAss cap, put them in the river\\nI'm the sushi king\\nAnd I'ma keep ya fresh\\nLet the fish eat ya flesh\\nYes sir, please confess\\nJust say he's the best (Killa!)\\n[Chorus]\\nKilla Cam (sing)\\nKilla Cam Cam (clap)\\nKilla Cam Killa Cam (yes)\\nKilla Cam Cam (it's me, sing)\\nKilla Cam\\nKilla Cam Cam (sing)\\nKilla Killa Killa Cam\\nKilla Cam Cam Killa  (clap, yes sir, uhh)\\nKilla Cam\\nKilla Cam Cam (sing, clap)\\nKilla Cam Killa Cam\\nKilla Cam Cam (it's me)\\nKilla Cam (sing, clap)\\nKilla Cam Cam\\nKilla Killa Killa Cam\\n(Let me end this shit, listen)\\nKilla Cam Cam Killa\\n\\n[Verse 3]\\n(Killa!) Yo\\nHow dope is this?\\nTeach you how to rope a chick\\nWhat you want: coke or piff?\\nGot it all, smoke or sniff? (everything)\\nAnd you know my drift\\nUsed to figures, dough and shit (millions)\\nYou a rooster nigga, just a roaster, bitch\\nAnd I roast ya bitch\\nThat's how it usually ends\\nTell her and her groupie friends\\nGo get their coochie cleansed\\nWe the moody Gucci, Louis and Pucci men\\nEscada, Prada\\nThe chopper it got the Uzi lens\\nBird's-eye view\\nThe birds I knew flip birds\\nBird gangs, it was birds I flew\\nAnd word I blew off herb I grew\\nI would serve on stoops\\nNow swerve in coupes\\nIt's me, sing! Killa, uhh\\n\\n[Chorus]\\nKilla Cam\\nKilla Cam Cam\\nKilla Cam Killa Cam\\nKilla Cam Cam\\nKilla Cam\\nKilla Cam Cam\\nKilla Killa Killa Cam\\nKilla Cam Cam Killa\\nKilla Cam\\nKilla Cam Cam\\nKilla Cam Killa Cam\\nKilla Cam Cam\\nKilla Cam\\nKilla Cam Cam\\nKilla Killa Killa Cam\\nKilla Cam Cam Killa</td>\n",
       "      <td>en</td>\n",
       "    </tr>\n",
       "    <tr>\n",
       "      <th>1</th>\n",
       "      <td>Can I Live</td>\n",
       "      <td>rap</td>\n",
       "      <td>JAY-Z</td>\n",
       "      <td>1996</td>\n",
       "      <td>468624</td>\n",
       "      <td>{}</td>\n",
       "      <td>[Produced by Irv Gotti]\\n\\n[Intro]\\nYeah, hah, yeah, Roc-A-Fella\\nWe invite you to somethin' epic, you know?\\nWell, we hustle out of a sense of hopelessness\\nSort of a desperation\\nThrough that desperation, we become addicted\\nSort of like the fiends we accustomed to servin'\\nBut we feel we have nothin' to lose\\nSo, we offer you, well, we offer our lives, right?\\nWhat do you bring to the table?\\n\\n[Verse 1]\\nWhile I'm watchin' every nigga watchin' me closely\\nMy shit is butter for the bread, they wanna toast me\\nI keep my head, both of them, where they supposed to be\\nHoes'll get you sidetracked, then clapped from close feet\\nI don't sleep, I'm tired, I feel wired like codeine, these days\\nA brother gotta admire me from four fiends away\\nMy pain, wish it was quick to see\\nFrom sellin' 'caine 'til brains was fried to a fricassee\\nCan't lie, at the time it never bothered me\\nAt the bar, gettin' my thug on properly\\nMy squad and me lack of respect for authority\\nLaughin' hard, happy to be escapin' poverty, however brief\\nI know this game got valleys and peaks\\nExpectation for dips, for precipitation we stack chips, hardly\\nThe youth I used to be, soon to see a mill'in\\nNo more Big Willie, my game has grown\\nPrefer you call me William\\nIllin' for revenues, Rayful Edmond-like\\nChannel 7 News, round seven jewels, head dead in the mic\\nForgettin' all I ever knew, convenient amnesia\\n\"I suggest you call my lawyer, I know the procedure.\"\\nLock my body, can't trap my mind\\nEasily explain why we adapt to crime\\nI'd rather die enormous than live dormant, that's how we on it\\nLive at the main event, I bet a trip to Maui on it\\nPresidential suites my residential for the weekend\\nConfidentially speakin' in codes since I sense you peekin'\\nThe NSX rental, don't be fooled, my game is mental\\nWe both out of town, dog, what you tryin' to get into?\\nViva Las Vegas, see ya later at the crap tables\\nMeet me by the one that starts a G up\\nThis way no Fraud Willies present gamblin' they re-up\\nAnd we can have a pleasant time, sippin' margaritas\\n[Chorus]\\nGe-ge-geyeahhh\\nCan I live?\\nCan I live?\\n\\n[Verse 2]\\nMy mind is infested with sick thoughts that circle\\nLike a Lexus, if driven wrong it's sure to hurt you\\nDual level like duplexes, in unity\\nMy crew and me commit atrocities like we got immunity\\nYou guessed it, manifest it\\nIn tangible goods, platinum Rolex'd it\\nWe don't lease, we buy the whole car, as you should\\nMy confederation, dead a nation\\nExplode on detonation, overload the mind of a said patient\\nWhen it boils to steam, it comes to it\\nWe all fiends, gotta do it: even righteous minds go through this\\nTrue this, the streets school us to spend our money foolish\\nBond with jewelers and watch for intruders\\nI stepped it up another level, meditated like a Buddhist\\nRecruited lieutenants with ludicrous dreams of gettin' cream\\n\"Let's do this,\" it gets tedious\\nSo I keep one eye open like CBS — you see me stressed, right?\\n\\n[Chorus]\\nCan I live?\\nCan I live?\\nCan I live?\\nCan I live?</td>\n",
       "      <td>en</td>\n",
       "    </tr>\n",
       "    <tr>\n",
       "      <th>2</th>\n",
       "      <td>Forgive Me Father</td>\n",
       "      <td>rap</td>\n",
       "      <td>Fabolous</td>\n",
       "      <td>2003</td>\n",
       "      <td>4743</td>\n",
       "      <td>{}</td>\n",
       "      <td>Maybe cause I'm eatin\\nAnd these bastards fiend for they grub\\nI carry pumps like I serve gasoline to these scrubs\\nHave you seen my Aston leanin on dubs\\nAnd they can't afford chrome so they puttin Vaseline on they hubs\\nI'm lookin for a girl with a ass like Trina to rub\\nTake home and let her watch the plasma screen in the tub\\nThese niggas hate I move as smooth as castor cream in the club\\nAnd dont pass my green or my bub\\nBut I'm a fly nigga that don't do much to pull her and dick her\\nEveryday I'm poppin a tag and pullin a sticker\\nEveryday I'm switchin the tags and pullin up sicker\\nEvery \"K\" I'm loadin the mags with bullets to flicker\\nAnd I ain't hesitatin homie I'm pullin it quicker\\nSo you can act tough After a few pulls of some liquor\\nGotta pull it on niggas\\nAnd they won't be goin nowhere for a while\\nThey might as well pull out a snicker Ye-Ye-Yea\\n\\n[Hook]\\nForgive me father for I have sinned\\nBut look at all this money that I spend\\nAnd look at all this jewlery that I'm in\\nAnd look at all the places that I've been\\nAnd look at all the women in those brims\\nLook at the blue flames that I'm in\\nI look at all the bullshit that theres been\\nAnd if I had another chance I'd do it again\\n[Verse 2]\\nAnywhere the kid move you know the hammers'll be with me\\nPokin out the shirt like a Pamela Lee titty\\nI went on tour brought the samples of D wit me\\nCame back a month later bought a Lambo for three-fifty\\nThink I throw you grams if you read with me\\nJust because you see me on the camera with P. Diddy\\nDammit we P-driddy?? Now I got G with me\\nAlong with the third leg that I be rammin in these bitties\\nI keep the revolver you hope my gun'll jam\\nBut with the scope its gonna blam\\nThe infra put freckles on your face like Opie Cunningham\\nThats why I'm watched by the Feds and scoped by Uncle Sam\\nDope and hunn-ed (hundred) grams rope and hunn-ed grams\\nAt the same time an artist get to open Summer Jam\\nHope you understand or use better sense\\nThese niggas dont want no beef they want lawsuit settlements Nigga!\\n\\n[Hook]\\n\\n[Verse 3]\\nI'm in a waggy when I'm passin by ya\\nWith a baby girl who suck harder than Maggie on a pacifier\\nWhat I'm smokin'll have you aggie as your last supplier\\nWhen you can smell it through the baggie you know that's some fire\\nGettin stressed by these hotties is regular\\nI got a magazine to press to your body like editors\\nTest me somebody I'm beggin ya\\nI got the gatling gun like Jesse The Body in Predator\\nI'm a hustler I dont sling no rocks to the fiends now\\nGot dudes who sit on corners like a boxer between rounds\\nAny other dude who dish rocks want beef\\nCause I chop dimes bigger than Chris Rock front teeth\\nI'm the nigga tearin the walls up in your miss in exchange for a small cup\\nOf the Cris\\nAnd while you at probation fillin a small cup full of piss\\nI'm in a coupe with a roof that ball up like a fist (Catch up!)</td>\n",
       "      <td>en</td>\n",
       "    </tr>\n",
       "    <tr>\n",
       "      <th>3</th>\n",
       "      <td>Down and Out</td>\n",
       "      <td>rap</td>\n",
       "      <td>Cam'ron</td>\n",
       "      <td>2004</td>\n",
       "      <td>144404</td>\n",
       "      <td>{\"Cam\\\\'ron\",\"Kanye West\",\"Syleena Johnson\"}</td>\n",
       "      <td>[Produced by Kanye West and Brian Miller]\\n\\n[Intro: Cam'ron &amp; Kanye West]\\nUgh, Killa!\\nBaby!\\nKanye, this that 1970s Heron flow, huh?\\nYeah, let's speed it up\\nUgh, I'm back in, ugh, ugh\\nThey don't know we finna kill the game this year\\nKilla! 'Ye! C'mon!\\n\\n[Verse 1: Cam'ron]\\nAyo, street mergers, I legislated; the nerve, I never hated\\nOn murders, premeditated—absurd! I hesitated\\nObserve: cock and spray, hit you from a block away\\nDrinking sake on a Suzuki; we in Osaka Bay\\nPlaying soccer, stupid, stay in a sucker's place\\nPluck your ace, take your girl, fuck her face\\nShe dealing with Killa, so you love her taste\\nShe swallowing Killa 'cause she love the taste\\nI got brought up with crooking, kitchen orders that I'm cooking\\nBut got caught up with the juxes\\nYou would've thought I was from Brooklyn\\nIt gets boring just looking\\nDid like Bill Cosby, pouring in the pudding\\nNow, the dashboard is wooden from a hard-tangled grammar\\nInterior, inferior; Star-Spangled Banner\\nCar game bananas, mob manning tanners\\nGuns everywhere, like the car came with hammers, he's back\\n[Chorus: Kanye West &amp; (Syleena Johnson)]\\nThey trying to say he (I'm down, down)\\nI hear niggas saying he (I'm down, but not out)\\nBut our flow is the truest (Oh), the game's in the nooses (No no)\\nOur girls is the models (Oh), they coochies the juiciest (Ooooh)\\nYeah, they say he (I'm down, down)\\nYeah, they say he (I'm down, but not out)\\n'Cause I'm back on my grind (Oh), money back on my mind (No no)\\nYe and Killa Cam, the world is mine (Oooh)\\n\\n[Verse 2: Cam'ron]\\nI treat bitches straight up, like Simon Says\\nOpen vagina; put your legs behind your head\\nCop me Air Ones, hon, lime and red\\nYou got pets? Me too: mines are dead, doggy\\nFox, minks, gators, that's necessary\\nAccessories, my closet's Pet Sematary\\nI get approached by animal activists\\nI live in a zoo, I run scandals with savages\\nAll my niggas get together to gather loot\\nBodyguard for what? Dog, I'd rather shoot\\nI go to war, old Timbs, battered boots\\nHand grenade, goggles and a parachute\\nY'all don't even know the name of my flip\\nIt was \"Touch Me, Tease Me\" when Case was the shit\\nYou don't know bout the cases I get:\\nCourt case, briefcase, suitcase, cases of Cris', oww!\\n[Chorus: Kanye West &amp; (Syleena Johnson)]\\nThey trying to say he (I'm down, down)\\nI hear niggas saying he (I'm down, but not out)\\nBut our flow is the truest (Oh), the game's in the nooses (No no)\\nOur girls is the models (Oh), they coochies the juiciest (Ooooh)\\nYeah, they say he (I'm down, down)\\nYeah, they say he (I'm down, but not out)\\n'Cause I'm back on my grind (Oh), money back on my mind (No no)\\nYe and Killa Cam, the world is mine (Oooh)\\n\\n[Verse 3: Cam'ron]\\nUgh, Killa, yo, yo, ayo—\\nYou dealing with some sure shit, my bitches pure thick\\nPlay razor tag, slice your face, you're it!\\nIt's I who come by, drive-thru\\nGator-toed Mauri, three quarters, sky-blue\\nLook at mami: eyes blue, 5'2''\\nI approached her—\"Hi, boo, how you?\\nPony skin Louie? Oh, you fly too\\nYou a stewardess? Good, ma—I fly too\"\\nNow, a nigga got baking to bake\\nHarlem shake? Nah, I'm in Harlem shaking the weight\\nShaking to bake, shaking the Jakes\\nKill you, shoot the funeral up and Harlem Shake at your wake\\nJust your picture, though; you still taped in a lake\\nI'm laughing; you couldn't wait to escape\\nFor anyone who owed the dough, I had to load the four\\nI hope a nigga heard when I said \"I told you so\"\\nUgh, Killa!\\n[Chorus: Kanye West &amp; (Syleena Johnson)]\\nThey trying to say he (I'm down, down)\\nI hear niggas saying he (I'm down, but not out)\\nBut our flow is the truest (Oh), the game's in the nooses (No no)\\nOur girls is the models (Oh), they coochies the juiciest (Ooooh)\\nYeah, they say he (I'm down, down)\\nYeah, they say he (I'm down, but not out)\\n'Cause I'm back on my grind (Oh), money back on my mind (No no)\\nYe and Killa Cam, the world is mine (Oooh)\\n\\n[Outro: Cam'ron]\\nMine! Killa!\\nYou already know Harlem\\nWhole Midwest, Detroit, Naptown, St. Louis\\nChicago, of course\\nWestside, holla at me\\nSouthside, wild hundreds\\nYou know what it is, Ohio\\nColumbus, holla at your boy\\nYou know what else I do:\\nDayton, Youngstown, Cleveland, Cincinnati</td>\n",
       "      <td>en</td>\n",
       "    </tr>\n",
       "    <tr>\n",
       "      <th>4</th>\n",
       "      <td>Fly In</td>\n",
       "      <td>rap</td>\n",
       "      <td>Lil Wayne</td>\n",
       "      <td>2005</td>\n",
       "      <td>78271</td>\n",
       "      <td>{}</td>\n",
       "      <td>[Intro]\\nSo they ask me\\n\"Young boy\\nWhat you gon' do the second time around?\\nHow you gon' come back?\"\\nI tried told 'em\\n\"I come back like 32\\nI jump back like 33\"\\nUgh, hit me\\nThat's nothing\\nThis is Tha Carter II, people\\nThis is Tha Carter II, people\\nHey\\n\\n[Verse]\\nThey call me Mr. Carter, I kissed the daughter\\nOf the dead's forehead, I killed the father\\nSpilled the heart of a mildew hater\\nI will put them body on chill like glaciers, gracias\\nI'm crazy, yes, it's obvious\\nGoing against me is atheist\\nI got my angels on my shoulder and a quarter of that angel dust\\nI ain't sniffing, I'm just pitching, your honor\\nI ain't snitching, your honor\\nHate bitch niggas, bitches with power\\nVacate when that kitchen get hotter\\nI just sit on the counter\\nOpen the cabinet, close the cupboard\\nPut that jar in the skillet, drop a four in the bubbles\\nI remember being young, tryna hustle my dope\\nTryna tell the old junkies that my crack ain't soap\\nTryna tell you 'fore you jump that my MAC ain't broke\\nYou ain't tryna see how far that black back lane go, no\\nCall me Pac-Man, your ghost is blue\\nI got my Red River rubies and my ocean blue jewelry\\nUsually I'm a hooligan for the money\\nYeah, I'm eating, but I got a tapeworm in my tummy, oh\\nMake harm and I bomb you in public\\nHit you with the straight-arm, no warning, nothing\\nLook, it's morning, no yawning or nothing\\nI ain't sleeping, I'm up tryna take a nigga lunch\\nYou gon' make a nigga break a nigga fronts\\nThen shake a nigga shorts and we taking what we want\\nI'm so 504, you got to kill me here\\nIf you ever looking for me, bitch, I will be here\\nCash Money is an army, Navy Seal me here\\nLot of niggas ran from me, but I still be here\\nNo chrome on the Continental, I'm so fundamental\\nCrack the Phil', crack the roof, and roll up the windows\\nAnd my hood love me, they tell me bring it home\\nThat's why I holler Hollygrove on each and every song\\nYou leaping at a dog, a dog with no bark\\nJust a bite like an old shark\\nAnd all you rich niggas know Pa, I'm talking 'bout Stunna\\nHe like, \"Keep your dough,\" he got your ho\\nAnd the sun shines on the king and sets on the prince\\nI met the Birdman and I been shining ever since, like that</td>\n",
       "      <td>en</td>\n",
       "    </tr>\n",
       "  </tbody>\n",
       "</table>\n",
       "</div>"
      ],
      "text/plain": [
       "               title  tag     artist  year   views  \\\n",
       "0          Killa Cam  rap    Cam'ron  2004  173166   \n",
       "1         Can I Live  rap      JAY-Z  1996  468624   \n",
       "2  Forgive Me Father  rap   Fabolous  2003    4743   \n",
       "3       Down and Out  rap    Cam'ron  2004  144404   \n",
       "4             Fly In  rap  Lil Wayne  2005   78271   \n",
       "\n",
       "                                       features  \\\n",
       "0                   {\"Cam\\\\'ron\",\"Opera Steve\"}   \n",
       "1                                            {}   \n",
       "2                                            {}   \n",
       "3  {\"Cam\\\\'ron\",\"Kanye West\",\"Syleena Johnson\"}   \n",
       "4                                            {}   \n",
       "\n",
       "                                                                                                                                                                                                                                                                                                                                                                                                                                                                                                                                                                                                                                                                                                                                                                                                                                                                                                                                                                                                                                                                                                                                                                                                                                                                                                                                                                                                                                                                                                                                                                                                                                                                                                                                                                                                                                                                                                                                                                                                                                                                                                                                                                                                                                                                                                                                                                                                                                                                                                                                                                                                                                                                                                                                                                                                                                                                                                                                                                                                                                                                                                                                                                                                                                                                                                                                                                                                                                                                                                                                                                                                                                                                                                                                                                                                                                                                                                                                                                                                                                                                                                                                                                                                                                                                                                                                                                                     lyrics  \\\n",
       "0                     [Chorus: Opera Steve & Cam'ron]\\nKilla Cam, Killa Cam, Cam\\nKilla Cam, Killa Cam\\nKilla Cam, Cam\\nKilla Cam, Killa Cam, Cam\\nKilla Killa Killa Cam\\nKilla Cam, Cam, Killa (Killa!)\\nKilla Cam, Killa Cam, Cam (Bases loaded)\\nKilla Cam, Killa Cam (Uh-huh)\\nKilla Cam, Cam (Santana on second, Jim on third)\\nKilla Cam, Killa Cam, Cam (I'm at bat)\\nKilla Killa Killa Cam\\nKilla Cam, Cam, Killa (I'm 'bout to hit this shit out the world)\\nKilla Cam (Ugh, Heatmakerz), Killa Cam, Cam\\nKilla Cam, Killa Cam\\nKilla Cam, Cam (Hahahaha)\\nKilla Cam, Killa Cam, Cam\\nKilla Killa Killa Cam\\nKilla Cam, Cam, Killa (We  make this shit clap)\\nKilla Cam, Killa Cam, Cam\\nKilla Cam, Killa Cam\\nKilla Cam, Cam\\nKilla Cam, Killa Cam, Cam\\nKilla Killa Killa Cam (Killa! Killa!)\\nKilla Cam, Cam, Killa\\n[Verse 1]\\nWith the goons I spar, stay in tune with ma (What up?)\\nShe like, \"Damn, this the realest since 'Kumbaya'\"\\nBomaye, Killa Cam, my Lord (My Lord)\\nStill the man with the pan, scrilla, fam, on board\\nNow bitches, they want to neuter me, niggas, they want to tutor me\\nThe hooligan in Houlihan's, maneuvering's nothing new to me\\nDoggy, I'm from the land of grind, pan-pan: gram or dime?\\nNot toes or MC when I say \"hammer time\"\\nBeef: I hammer mine, when I get my hands on nines\\nIf I had on 'Bama line, Corduroys, Cam'll shine\\nCanary burgundy: I call it \"Lemon Red\" (Red)\\nYellow diamonds in my ear, call 'em \"Lemonheads\"\\nLemonhead, end up dead, ice like Winnipeg\\nGemstone, Flintstones, you could say I'm friends with Fred\\nYou unhappy, scrappy? (What's going on, Scrappy?)\\nI got Pataki at me\\nBitches say I'm \"Tacky Daddy,\" Range look like Laffy Taffy\\n\\n[Chorus]\\nKilla Cam\\nKilla Cam Cam (sing)\\nKilla Cam Killa Cam\\nKilla Cam Cam (uhh, it's me, clap)\\nKilla Cam\\nKilla Cam Cam\\nKilla Killa Killa Cam (sing)\\nKilla Cam Cam Killa (uhh, it's me, clap)\\nKilla Cam\\nKilla Cam Cam (sing)\\nKilla Cam Killa Cam\\nKilla Cam Cam (clap, it's me)\\nKilla Cam\\nKilla Cam Cam\\nKilla Killa Killa Cam (clap)\\n(Harlem, I know y'all know about this)\\nKilla Cam Cam Killa (Killa!)\\n[Verse 2]\\nYo, I'm from where Nicky Barnes got rich as fuck\\nRich and A hit the kitchens then were pitchin' up\\nRob Base, Mase, Doug E Fresh switched it up\\nI do both, who am I to fuck tradition up? (Killa!)\\nSo I parked in a tow-away zone\\nChrome...I don't care\\nThat car a throwaway, homes (Killa!)\\nWelcome to Harlem, where you welcome to problems\\nOff of furlough, fellow felons get pardons\\nThem niggas knew we bang\\nStood out like Pootie Tang\\nSoon as the stoolie sings\\nThat when the toolie sing!\\nBang! Bang!\\nCame from that movie ring\\nSnap, crack jewelry bling\\nFlapjack, ooh he bring\\nClack-clack, \"ooh he ring!\"\\nBad rap, cuties cling\\nAss cap, put them in the river\\nI'm the sushi king\\nAnd I'ma keep ya fresh\\nLet the fish eat ya flesh\\nYes sir, please confess\\nJust say he's the best (Killa!)\\n[Chorus]\\nKilla Cam (sing)\\nKilla Cam Cam (clap)\\nKilla Cam Killa Cam (yes)\\nKilla Cam Cam (it's me, sing)\\nKilla Cam\\nKilla Cam Cam (sing)\\nKilla Killa Killa Cam\\nKilla Cam Cam Killa  (clap, yes sir, uhh)\\nKilla Cam\\nKilla Cam Cam (sing, clap)\\nKilla Cam Killa Cam\\nKilla Cam Cam (it's me)\\nKilla Cam (sing, clap)\\nKilla Cam Cam\\nKilla Killa Killa Cam\\n(Let me end this shit, listen)\\nKilla Cam Cam Killa\\n\\n[Verse 3]\\n(Killa!) Yo\\nHow dope is this?\\nTeach you how to rope a chick\\nWhat you want: coke or piff?\\nGot it all, smoke or sniff? (everything)\\nAnd you know my drift\\nUsed to figures, dough and shit (millions)\\nYou a rooster nigga, just a roaster, bitch\\nAnd I roast ya bitch\\nThat's how it usually ends\\nTell her and her groupie friends\\nGo get their coochie cleansed\\nWe the moody Gucci, Louis and Pucci men\\nEscada, Prada\\nThe chopper it got the Uzi lens\\nBird's-eye view\\nThe birds I knew flip birds\\nBird gangs, it was birds I flew\\nAnd word I blew off herb I grew\\nI would serve on stoops\\nNow swerve in coupes\\nIt's me, sing! Killa, uhh\\n\\n[Chorus]\\nKilla Cam\\nKilla Cam Cam\\nKilla Cam Killa Cam\\nKilla Cam Cam\\nKilla Cam\\nKilla Cam Cam\\nKilla Killa Killa Cam\\nKilla Cam Cam Killa\\nKilla Cam\\nKilla Cam Cam\\nKilla Cam Killa Cam\\nKilla Cam Cam\\nKilla Cam\\nKilla Cam Cam\\nKilla Killa Killa Cam\\nKilla Cam Cam Killa   \n",
       "1                                                                                                                                                                                                                                                                                                                                                                                                                                                                                                                                                                                                                                                                                                                                                                                                                                                                                                                                                                                                                                                                                                                                                                                                                                          [Produced by Irv Gotti]\\n\\n[Intro]\\nYeah, hah, yeah, Roc-A-Fella\\nWe invite you to somethin' epic, you know?\\nWell, we hustle out of a sense of hopelessness\\nSort of a desperation\\nThrough that desperation, we become addicted\\nSort of like the fiends we accustomed to servin'\\nBut we feel we have nothin' to lose\\nSo, we offer you, well, we offer our lives, right?\\nWhat do you bring to the table?\\n\\n[Verse 1]\\nWhile I'm watchin' every nigga watchin' me closely\\nMy shit is butter for the bread, they wanna toast me\\nI keep my head, both of them, where they supposed to be\\nHoes'll get you sidetracked, then clapped from close feet\\nI don't sleep, I'm tired, I feel wired like codeine, these days\\nA brother gotta admire me from four fiends away\\nMy pain, wish it was quick to see\\nFrom sellin' 'caine 'til brains was fried to a fricassee\\nCan't lie, at the time it never bothered me\\nAt the bar, gettin' my thug on properly\\nMy squad and me lack of respect for authority\\nLaughin' hard, happy to be escapin' poverty, however brief\\nI know this game got valleys and peaks\\nExpectation for dips, for precipitation we stack chips, hardly\\nThe youth I used to be, soon to see a mill'in\\nNo more Big Willie, my game has grown\\nPrefer you call me William\\nIllin' for revenues, Rayful Edmond-like\\nChannel 7 News, round seven jewels, head dead in the mic\\nForgettin' all I ever knew, convenient amnesia\\n\"I suggest you call my lawyer, I know the procedure.\"\\nLock my body, can't trap my mind\\nEasily explain why we adapt to crime\\nI'd rather die enormous than live dormant, that's how we on it\\nLive at the main event, I bet a trip to Maui on it\\nPresidential suites my residential for the weekend\\nConfidentially speakin' in codes since I sense you peekin'\\nThe NSX rental, don't be fooled, my game is mental\\nWe both out of town, dog, what you tryin' to get into?\\nViva Las Vegas, see ya later at the crap tables\\nMeet me by the one that starts a G up\\nThis way no Fraud Willies present gamblin' they re-up\\nAnd we can have a pleasant time, sippin' margaritas\\n[Chorus]\\nGe-ge-geyeahhh\\nCan I live?\\nCan I live?\\n\\n[Verse 2]\\nMy mind is infested with sick thoughts that circle\\nLike a Lexus, if driven wrong it's sure to hurt you\\nDual level like duplexes, in unity\\nMy crew and me commit atrocities like we got immunity\\nYou guessed it, manifest it\\nIn tangible goods, platinum Rolex'd it\\nWe don't lease, we buy the whole car, as you should\\nMy confederation, dead a nation\\nExplode on detonation, overload the mind of a said patient\\nWhen it boils to steam, it comes to it\\nWe all fiends, gotta do it: even righteous minds go through this\\nTrue this, the streets school us to spend our money foolish\\nBond with jewelers and watch for intruders\\nI stepped it up another level, meditated like a Buddhist\\nRecruited lieutenants with ludicrous dreams of gettin' cream\\n\"Let's do this,\" it gets tedious\\nSo I keep one eye open like CBS — you see me stressed, right?\\n\\n[Chorus]\\nCan I live?\\nCan I live?\\nCan I live?\\nCan I live?   \n",
       "2                                                                                                                                                                                                                                                                                                                                                                                                                                                                                                                                                                                                                                                                                                                                                                                                                                                                                                                                                                                                                                                                                                                                                                                                                                                                                                                                                                     Maybe cause I'm eatin\\nAnd these bastards fiend for they grub\\nI carry pumps like I serve gasoline to these scrubs\\nHave you seen my Aston leanin on dubs\\nAnd they can't afford chrome so they puttin Vaseline on they hubs\\nI'm lookin for a girl with a ass like Trina to rub\\nTake home and let her watch the plasma screen in the tub\\nThese niggas hate I move as smooth as castor cream in the club\\nAnd dont pass my green or my bub\\nBut I'm a fly nigga that don't do much to pull her and dick her\\nEveryday I'm poppin a tag and pullin a sticker\\nEveryday I'm switchin the tags and pullin up sicker\\nEvery \"K\" I'm loadin the mags with bullets to flicker\\nAnd I ain't hesitatin homie I'm pullin it quicker\\nSo you can act tough After a few pulls of some liquor\\nGotta pull it on niggas\\nAnd they won't be goin nowhere for a while\\nThey might as well pull out a snicker Ye-Ye-Yea\\n\\n[Hook]\\nForgive me father for I have sinned\\nBut look at all this money that I spend\\nAnd look at all this jewlery that I'm in\\nAnd look at all the places that I've been\\nAnd look at all the women in those brims\\nLook at the blue flames that I'm in\\nI look at all the bullshit that theres been\\nAnd if I had another chance I'd do it again\\n[Verse 2]\\nAnywhere the kid move you know the hammers'll be with me\\nPokin out the shirt like a Pamela Lee titty\\nI went on tour brought the samples of D wit me\\nCame back a month later bought a Lambo for three-fifty\\nThink I throw you grams if you read with me\\nJust because you see me on the camera with P. Diddy\\nDammit we P-driddy?? Now I got G with me\\nAlong with the third leg that I be rammin in these bitties\\nI keep the revolver you hope my gun'll jam\\nBut with the scope its gonna blam\\nThe infra put freckles on your face like Opie Cunningham\\nThats why I'm watched by the Feds and scoped by Uncle Sam\\nDope and hunn-ed (hundred) grams rope and hunn-ed grams\\nAt the same time an artist get to open Summer Jam\\nHope you understand or use better sense\\nThese niggas dont want no beef they want lawsuit settlements Nigga!\\n\\n[Hook]\\n\\n[Verse 3]\\nI'm in a waggy when I'm passin by ya\\nWith a baby girl who suck harder than Maggie on a pacifier\\nWhat I'm smokin'll have you aggie as your last supplier\\nWhen you can smell it through the baggie you know that's some fire\\nGettin stressed by these hotties is regular\\nI got a magazine to press to your body like editors\\nTest me somebody I'm beggin ya\\nI got the gatling gun like Jesse The Body in Predator\\nI'm a hustler I dont sling no rocks to the fiends now\\nGot dudes who sit on corners like a boxer between rounds\\nAny other dude who dish rocks want beef\\nCause I chop dimes bigger than Chris Rock front teeth\\nI'm the nigga tearin the walls up in your miss in exchange for a small cup\\nOf the Cris\\nAnd while you at probation fillin a small cup full of piss\\nI'm in a coupe with a roof that ball up like a fist (Catch up!)   \n",
       "3  [Produced by Kanye West and Brian Miller]\\n\\n[Intro: Cam'ron & Kanye West]\\nUgh, Killa!\\nBaby!\\nKanye, this that 1970s Heron flow, huh?\\nYeah, let's speed it up\\nUgh, I'm back in, ugh, ugh\\nThey don't know we finna kill the game this year\\nKilla! 'Ye! C'mon!\\n\\n[Verse 1: Cam'ron]\\nAyo, street mergers, I legislated; the nerve, I never hated\\nOn murders, premeditated—absurd! I hesitated\\nObserve: cock and spray, hit you from a block away\\nDrinking sake on a Suzuki; we in Osaka Bay\\nPlaying soccer, stupid, stay in a sucker's place\\nPluck your ace, take your girl, fuck her face\\nShe dealing with Killa, so you love her taste\\nShe swallowing Killa 'cause she love the taste\\nI got brought up with crooking, kitchen orders that I'm cooking\\nBut got caught up with the juxes\\nYou would've thought I was from Brooklyn\\nIt gets boring just looking\\nDid like Bill Cosby, pouring in the pudding\\nNow, the dashboard is wooden from a hard-tangled grammar\\nInterior, inferior; Star-Spangled Banner\\nCar game bananas, mob manning tanners\\nGuns everywhere, like the car came with hammers, he's back\\n[Chorus: Kanye West & (Syleena Johnson)]\\nThey trying to say he (I'm down, down)\\nI hear niggas saying he (I'm down, but not out)\\nBut our flow is the truest (Oh), the game's in the nooses (No no)\\nOur girls is the models (Oh), they coochies the juiciest (Ooooh)\\nYeah, they say he (I'm down, down)\\nYeah, they say he (I'm down, but not out)\\n'Cause I'm back on my grind (Oh), money back on my mind (No no)\\nYe and Killa Cam, the world is mine (Oooh)\\n\\n[Verse 2: Cam'ron]\\nI treat bitches straight up, like Simon Says\\nOpen vagina; put your legs behind your head\\nCop me Air Ones, hon, lime and red\\nYou got pets? Me too: mines are dead, doggy\\nFox, minks, gators, that's necessary\\nAccessories, my closet's Pet Sematary\\nI get approached by animal activists\\nI live in a zoo, I run scandals with savages\\nAll my niggas get together to gather loot\\nBodyguard for what? Dog, I'd rather shoot\\nI go to war, old Timbs, battered boots\\nHand grenade, goggles and a parachute\\nY'all don't even know the name of my flip\\nIt was \"Touch Me, Tease Me\" when Case was the shit\\nYou don't know bout the cases I get:\\nCourt case, briefcase, suitcase, cases of Cris', oww!\\n[Chorus: Kanye West & (Syleena Johnson)]\\nThey trying to say he (I'm down, down)\\nI hear niggas saying he (I'm down, but not out)\\nBut our flow is the truest (Oh), the game's in the nooses (No no)\\nOur girls is the models (Oh), they coochies the juiciest (Ooooh)\\nYeah, they say he (I'm down, down)\\nYeah, they say he (I'm down, but not out)\\n'Cause I'm back on my grind (Oh), money back on my mind (No no)\\nYe and Killa Cam, the world is mine (Oooh)\\n\\n[Verse 3: Cam'ron]\\nUgh, Killa, yo, yo, ayo—\\nYou dealing with some sure shit, my bitches pure thick\\nPlay razor tag, slice your face, you're it!\\nIt's I who come by, drive-thru\\nGator-toed Mauri, three quarters, sky-blue\\nLook at mami: eyes blue, 5'2''\\nI approached her—\"Hi, boo, how you?\\nPony skin Louie? Oh, you fly too\\nYou a stewardess? Good, ma—I fly too\"\\nNow, a nigga got baking to bake\\nHarlem shake? Nah, I'm in Harlem shaking the weight\\nShaking to bake, shaking the Jakes\\nKill you, shoot the funeral up and Harlem Shake at your wake\\nJust your picture, though; you still taped in a lake\\nI'm laughing; you couldn't wait to escape\\nFor anyone who owed the dough, I had to load the four\\nI hope a nigga heard when I said \"I told you so\"\\nUgh, Killa!\\n[Chorus: Kanye West & (Syleena Johnson)]\\nThey trying to say he (I'm down, down)\\nI hear niggas saying he (I'm down, but not out)\\nBut our flow is the truest (Oh), the game's in the nooses (No no)\\nOur girls is the models (Oh), they coochies the juiciest (Ooooh)\\nYeah, they say he (I'm down, down)\\nYeah, they say he (I'm down, but not out)\\n'Cause I'm back on my grind (Oh), money back on my mind (No no)\\nYe and Killa Cam, the world is mine (Oooh)\\n\\n[Outro: Cam'ron]\\nMine! Killa!\\nYou already know Harlem\\nWhole Midwest, Detroit, Naptown, St. Louis\\nChicago, of course\\nWestside, holla at me\\nSouthside, wild hundreds\\nYou know what it is, Ohio\\nColumbus, holla at your boy\\nYou know what else I do:\\nDayton, Youngstown, Cleveland, Cincinnati   \n",
       "4                                                                                                                                                                                                                                                                                                                                                                                                                                                                                                                                                                                                                                                                                                                                                                                                                                                                                                                                                                                                                                                                                                                                                                                                                                                                                                                                                                                                                                                                                                                                                                                                                                                                                                                                                                                                                                                                                                                                                                                                                                                                                    [Intro]\\nSo they ask me\\n\"Young boy\\nWhat you gon' do the second time around?\\nHow you gon' come back?\"\\nI tried told 'em\\n\"I come back like 32\\nI jump back like 33\"\\nUgh, hit me\\nThat's nothing\\nThis is Tha Carter II, people\\nThis is Tha Carter II, people\\nHey\\n\\n[Verse]\\nThey call me Mr. Carter, I kissed the daughter\\nOf the dead's forehead, I killed the father\\nSpilled the heart of a mildew hater\\nI will put them body on chill like glaciers, gracias\\nI'm crazy, yes, it's obvious\\nGoing against me is atheist\\nI got my angels on my shoulder and a quarter of that angel dust\\nI ain't sniffing, I'm just pitching, your honor\\nI ain't snitching, your honor\\nHate bitch niggas, bitches with power\\nVacate when that kitchen get hotter\\nI just sit on the counter\\nOpen the cabinet, close the cupboard\\nPut that jar in the skillet, drop a four in the bubbles\\nI remember being young, tryna hustle my dope\\nTryna tell the old junkies that my crack ain't soap\\nTryna tell you 'fore you jump that my MAC ain't broke\\nYou ain't tryna see how far that black back lane go, no\\nCall me Pac-Man, your ghost is blue\\nI got my Red River rubies and my ocean blue jewelry\\nUsually I'm a hooligan for the money\\nYeah, I'm eating, but I got a tapeworm in my tummy, oh\\nMake harm and I bomb you in public\\nHit you with the straight-arm, no warning, nothing\\nLook, it's morning, no yawning or nothing\\nI ain't sleeping, I'm up tryna take a nigga lunch\\nYou gon' make a nigga break a nigga fronts\\nThen shake a nigga shorts and we taking what we want\\nI'm so 504, you got to kill me here\\nIf you ever looking for me, bitch, I will be here\\nCash Money is an army, Navy Seal me here\\nLot of niggas ran from me, but I still be here\\nNo chrome on the Continental, I'm so fundamental\\nCrack the Phil', crack the roof, and roll up the windows\\nAnd my hood love me, they tell me bring it home\\nThat's why I holler Hollygrove on each and every song\\nYou leaping at a dog, a dog with no bark\\nJust a bite like an old shark\\nAnd all you rich niggas know Pa, I'm talking 'bout Stunna\\nHe like, \"Keep your dough,\" he got your ho\\nAnd the sun shines on the king and sets on the prince\\nI met the Birdman and I been shining ever since, like that   \n",
       "\n",
       "  language  \n",
       "0       en  \n",
       "1       en  \n",
       "2       en  \n",
       "3       en  \n",
       "4       en  "
      ]
     },
     "execution_count": 112,
     "metadata": {},
     "output_type": "execute_result"
    }
   ],
   "source": [
    "ds.head()"
   ]
  },
  {
   "cell_type": "code",
   "execution_count": 81,
   "id": "fb25879d-3752-47b0-a95c-ff28644fe2ae",
   "metadata": {},
   "outputs": [
    {
     "name": "stderr",
     "output_type": "stream",
     "text": [
      "python(61546) MallocStackLogging: can't turn off malloc stack logging because it was not enabled.\n"
     ]
    },
    {
     "name": "stdout",
     "output_type": "stream",
     "text": [
      "\u001b[33mWARNING: Ignoring invalid distribution ~yarrow (/opt/anaconda3/lib/python3.11/site-packages)\u001b[0m\u001b[33m\n",
      "\u001b[0mRequirement already satisfied: transformers in /opt/anaconda3/lib/python3.11/site-packages (4.46.3)\n",
      "Requirement already satisfied: filelock in /opt/anaconda3/lib/python3.11/site-packages (from transformers) (3.13.1)\n",
      "Requirement already satisfied: huggingface-hub<1.0,>=0.23.2 in /opt/anaconda3/lib/python3.11/site-packages (from transformers) (0.26.2)\n",
      "Requirement already satisfied: numpy>=1.17 in /opt/anaconda3/lib/python3.11/site-packages (from transformers) (1.26.4)\n",
      "Requirement already satisfied: packaging>=20.0 in /opt/anaconda3/lib/python3.11/site-packages (from transformers) (23.1)\n",
      "Requirement already satisfied: pyyaml>=5.1 in /opt/anaconda3/lib/python3.11/site-packages (from transformers) (6.0.1)\n",
      "Requirement already satisfied: regex!=2019.12.17 in /opt/anaconda3/lib/python3.11/site-packages (from transformers) (2023.10.3)\n",
      "Requirement already satisfied: requests in /opt/anaconda3/lib/python3.11/site-packages (from transformers) (2.32.3)\n",
      "Requirement already satisfied: tokenizers<0.21,>=0.20 in /opt/anaconda3/lib/python3.11/site-packages (from transformers) (0.20.3)\n",
      "Requirement already satisfied: safetensors>=0.4.1 in /opt/anaconda3/lib/python3.11/site-packages (from transformers) (0.4.5)\n",
      "Requirement already satisfied: tqdm>=4.27 in /opt/anaconda3/lib/python3.11/site-packages (from transformers) (4.66.6)\n",
      "Requirement already satisfied: fsspec>=2023.5.0 in /opt/anaconda3/lib/python3.11/site-packages (from huggingface-hub<1.0,>=0.23.2->transformers) (2023.10.0)\n",
      "Requirement already satisfied: typing-extensions>=3.7.4.3 in /opt/anaconda3/lib/python3.11/site-packages (from huggingface-hub<1.0,>=0.23.2->transformers) (4.9.0)\n",
      "Requirement already satisfied: charset-normalizer<4,>=2 in /opt/anaconda3/lib/python3.11/site-packages (from requests->transformers) (2.0.4)\n",
      "Requirement already satisfied: idna<4,>=2.5 in /opt/anaconda3/lib/python3.11/site-packages (from requests->transformers) (3.4)\n",
      "Requirement already satisfied: urllib3<3,>=1.21.1 in /opt/anaconda3/lib/python3.11/site-packages (from requests->transformers) (2.0.7)\n",
      "Requirement already satisfied: certifi>=2017.4.17 in /opt/anaconda3/lib/python3.11/site-packages (from requests->transformers) (2024.8.30)\n",
      "\u001b[33mWARNING: Ignoring invalid distribution ~yarrow (/opt/anaconda3/lib/python3.11/site-packages)\u001b[0m\u001b[33m\n",
      "\u001b[0m\u001b[33mWARNING: Ignoring invalid distribution ~yarrow (/opt/anaconda3/lib/python3.11/site-packages)\u001b[0m\u001b[33m\n",
      "\u001b[0m\u001b[33mWARNING: Ignoring invalid distribution ~yarrow (/opt/anaconda3/lib/python3.11/site-packages)\u001b[0m\u001b[33m\n",
      "\u001b[0m\u001b[33mWARNING: Ignoring invalid distribution ~yarrow (/opt/anaconda3/lib/python3.11/site-packages)\u001b[0m\u001b[33m\n",
      "\u001b[0m"
     ]
    }
   ],
   "source": [
    "!pip install transformers"
   ]
  },
  {
   "cell_type": "code",
   "execution_count": 116,
   "id": "49895dac-1e7b-4573-9ea9-66aafb849cf6",
   "metadata": {},
   "outputs": [],
   "source": [
    "custom_label_mapping = {\n",
    "    \"admiration\": \"admiration\",   # Retain as-is\n",
    "    \"amusement\": \"joy\",           # Merge with joy\n",
    "    \"anger\": \"anger\",             # Retain as-is\n",
    "    \"annoyance\": \"anger\",         # Merge with anger\n",
    "    \"approval\": \"admiration\",     # Merge with admiration\n",
    "    \"caring\": \"love\",             # Merge with love\n",
    "    \"confusion\": \"confusion\",     # Retain as-is\n",
    "    \"curiosity\": \"curiosity\",     # Retain as-is\n",
    "    \"desire\": \"desire\",           # Retain as-is\n",
    "    \"disappointment\": \"sadness\",  # Merge with sadness\n",
    "    \"disapproval\": \"anger\",       # Merge with anger\n",
    "    \"disgust\": None,              # Remove\n",
    "    \"embarrassment\": None,        # Remove\n",
    "    \"excitement\": \"joy\",          # Merge with joy\n",
    "    \"fear\": \"fear\",               # Retain as-is\n",
    "    \"gratitude\": \"admiration\",    # Merge with admiration\n",
    "    \"grief\": \"sadness\",           # Merge with sadness\n",
    "    \"joy\": \"joy\",                 # Retain as-is\n",
    "    \"love\": \"love\",               # Retain as-is\n",
    "    \"nervousness\": \"fear\",        # Merge with fear\n",
    "    \"optimism\": \"joy\",            # Merge with joy\n",
    "    \"pride\": \"admiration\",        # Merge with admiration\n",
    "    \"realization\": None,          # Remove\n",
    "    \"relief\": \"joy\",              # Merge with joy\n",
    "    \"remorse\": \"sadness\",         # Merge with sadness\n",
    "    \"sadness\": \"sadness\",         # Retain as-is\n",
    "    \"surprise\": \"surprise\",       # Retain as-is\n",
    "    \"neutral\": \"neutral\"          # Retain as fallback\n",
    "}"
   ]
  },
  {
   "cell_type": "code",
   "execution_count": 139,
   "id": "7197f7cd-ea19-4876-91cb-18f8c61a7712",
   "metadata": {},
   "outputs": [],
   "source": [
    "# Sample of 100 rows for testing\n",
    "ds_sample = ds.sample(n=1000, random_state=42)"
   ]
  },
  {
   "cell_type": "code",
   "execution_count": 152,
   "id": "16a04181-68b4-46ef-99f5-8f582a0d0a56",
   "metadata": {},
   "outputs": [
    {
     "name": "stderr",
     "output_type": "stream",
     "text": [
      "100%|███████████████████████████████████████| 1000/1000 [05:29<00:00,  3.04it/s]\n"
     ]
    }
   ],
   "source": [
    "# Sentiment classifier\n",
    "classifier = pipeline(\n",
    "    \"text-classification\",\n",
    "    model=\"SamLowe/roberta-base-go_emotions\",\n",
    "    top_k=None,  # Replaces return_all_scores=True\n",
    "    device=device  # Use GPU if available\n",
    ")\n",
    "from tqdm import tqdm\n",
    "\n",
    "# Function to analyze song sentiment and return top sentiments\n",
    "def analyze_song_sentiment(lyrics, top_n=3):\n",
    "    truncated_lyrics = lyrics[:812] if isinstance(lyrics, str) and len(lyrics) > 812 else lyrics\n",
    "    predictions = classifier(truncated_lyrics)[0]\n",
    "    custom_predictions = [\n",
    "        {\"label\": custom_label_mapping[pred[\"label\"]], \"score\": pred[\"score\"]}\n",
    "        for pred in predictions if custom_label_mapping.get(pred[\"label\"])\n",
    "    ]\n",
    "    total_score = sum(pred[\"score\"] for pred in custom_predictions)\n",
    "    for pred in custom_predictions:\n",
    "        pred[\"score\"] /= total_score  # Normalize scores\n",
    "    return sorted(custom_predictions, key=lambda x: x[\"score\"], reverse=True)[:top_n]\n",
    "\n",
    "# Recompute 'top_sentiments'\n",
    "tqdm.pandas()\n",
    "ds_sample['top_sentiments'] = ds_sample['lyrics'].progress_apply(lambda x: analyze_song_sentiment(x, top_n=3))"
   ]
  },
  {
   "cell_type": "code",
   "execution_count": 142,
   "id": "03a8434b-ef8a-4dd6-9c3d-0970e9222b0c",
   "metadata": {},
   "outputs": [
    {
     "data": {
      "text/html": [
       "<div>\n",
       "<style scoped>\n",
       "    .dataframe tbody tr th:only-of-type {\n",
       "        vertical-align: middle;\n",
       "    }\n",
       "\n",
       "    .dataframe tbody tr th {\n",
       "        vertical-align: top;\n",
       "    }\n",
       "\n",
       "    .dataframe thead th {\n",
       "        text-align: right;\n",
       "    }\n",
       "</style>\n",
       "<table border=\"1\" class=\"dataframe\">\n",
       "  <thead>\n",
       "    <tr style=\"text-align: right;\">\n",
       "      <th></th>\n",
       "      <th>title</th>\n",
       "      <th>tag</th>\n",
       "      <th>artist</th>\n",
       "      <th>year</th>\n",
       "      <th>views</th>\n",
       "      <th>features</th>\n",
       "      <th>lyrics</th>\n",
       "      <th>language</th>\n",
       "      <th>top_sentiments</th>\n",
       "    </tr>\n",
       "  </thead>\n",
       "  <tbody>\n",
       "    <tr>\n",
       "      <th>229913</th>\n",
       "      <td>Until I Fall Away</td>\n",
       "      <td>rock</td>\n",
       "      <td>Gin Blossoms</td>\n",
       "      <td>1992</td>\n",
       "      <td>11257</td>\n",
       "      <td>{}</td>\n",
       "      <td>[Verse 1]\\nI want to tell if I am or I am not myself\\nIt's hard to know how far or if at all could go\\nWaiting far too long for something I forgot was wrong\\nI don't know all the answers I think that I'll find\\nOr have it within the time but it's all that I'll have in mind\\n\\n[Chorus]\\nUntil I fall away\\nThat won't keep us waiting long\\nUntil I fall away\\nI don't know what to do anymore\\nUntil I fall away\\n\\n[Verse 2]\\nMy fear pretend that I'll never be in love again\\nIt's real to me but not like these fools and not like this scene\\nI won't find or have it within the time\\nIf it's all rusted and fade in the spot where we fell\\nWhere I thought I'd left behind\\nIt's loose now but we could try\\n[Chorus]\\nWhen there's no good answers\\nTo those new questions\\nAnother personal disaster\\nThere's nowhere to go but down</td>\n",
       "      <td>en</td>\n",
       "      <td>[{'label': 'confusion', 'score': 0.3406164521002825}, {'label': 'sadness', 'score': 0.19732452538029605}, {'label': 'neutral', 'score': 0.1937919501045029}]</td>\n",
       "    </tr>\n",
       "    <tr>\n",
       "      <th>178699</th>\n",
       "      <td>Drag Open</td>\n",
       "      <td>rock</td>\n",
       "      <td>Women</td>\n",
       "      <td>2010</td>\n",
       "      <td>2128</td>\n",
       "      <td>{}</td>\n",
       "      <td>[Verse 1]\\nComing too far\\nAnd dragging vice\\nYour lungs expand\\nSo don't feel blue\\n\\n[Chorus]\\nShe did out your voice and lips\\nYou're such a drag open\\n\\n[Verse 2]\\nSit on your back\\nWe'll see this through\\nYour chartered trips\\nYou're smaller than sand\\n\\n[Chorus]\\nShe did out your voice and lips\\nYou're such a drag open</td>\n",
       "      <td>en</td>\n",
       "      <td>[{'label': 'neutral', 'score': 0.932255245221613}, {'label': 'admiration', 'score': 0.014204346628701231}, {'label': 'anger', 'score': 0.012642718006340908}]</td>\n",
       "    </tr>\n",
       "    <tr>\n",
       "      <th>167613</th>\n",
       "      <td>Great Awakening</td>\n",
       "      <td>rock</td>\n",
       "      <td>Rise Against</td>\n",
       "      <td>2001</td>\n",
       "      <td>1411</td>\n",
       "      <td>{}</td>\n",
       "      <td>Buried words\\nUnder lights\\nSoundtrack to this stagnant life\\nThis meaning lost in translation\\nMessage sucked out of his hands again\\n\\nThis could be my great awakening\\nBut how would I know\\nCuz it's all noise to me\\nAre these words falling on deaf ears?\\n\\nStaring at the empty stares\\nRealize that he no longer cares about the wrong or right\\nThe downward spiral begins tonight\\n\\nAnd this could be my great awakening\\nBut how would I know cuz it's all noise to me\\nAre these words falling on deaf ears?\\n\\nAnd this could be my great awakening\\nBut how would I know cuz it's all noise to me\\nNothing I can do will make you hear</td>\n",
       "      <td>en</td>\n",
       "      <td>[{'label': 'neutral', 'score': 0.3012570877334345}, {'label': 'confusion', 'score': 0.22377696832894087}, {'label': 'surprise', 'score': 0.18164260772861446}]</td>\n",
       "    </tr>\n",
       "    <tr>\n",
       "      <th>61924</th>\n",
       "      <td>Worthy</td>\n",
       "      <td>rb</td>\n",
       "      <td>Jacob Banks</td>\n",
       "      <td>2014</td>\n",
       "      <td>56091</td>\n",
       "      <td>{}</td>\n",
       "      <td>[Verse 1]\\nSuddenly the clouds have opened up\\nAnd I'm being seen in all of my glory\\nThe time has come for fate to decide\\nIf a part of me is even worthy\\nThe air is warm, my heart is cold\\nAnd I'll never know how it feels\\nThe air is warm, my heart is cold\\nAnd I'll never know how it feels\\nTo have a heart of gold\\n\\n[Chorus]\\nI feel worthy somehow\\nPlease, I don't want to go down, down\\nThe new world is calling me now\\nPlease don't let me go down, down\\nAnd I feel worthy somehow\\nPlease don't let me go down, down\\nThe new world is calling me now\\nPlease don't let me go down, down\\n[Verse 2]\\nJust one step unto the lonely road\\nHe scarred me for life\\nNo time to reflect as I was getting by\\nGetting by, enjoying life\\nThe time has come for judgment day\\nAnd I'm standing here, begging you\\nPlease take pity on me, take pity on me\\n\\n[Chorus]\\n\\n[Outro]\\nOh, please don't let me go down\\nI don't want to go down</td>\n",
       "      <td>en</td>\n",
       "      <td>[{'label': 'neutral', 'score': 0.376521825651974}, {'label': 'desire', 'score': 0.2036650365329073}, {'label': 'sadness', 'score': 0.1566506865188695}]</td>\n",
       "    </tr>\n",
       "    <tr>\n",
       "      <th>128751</th>\n",
       "      <td>The Love Song of Saint Sebastian</td>\n",
       "      <td>misc</td>\n",
       "      <td>T.S. Eliot</td>\n",
       "      <td>1996</td>\n",
       "      <td>6914</td>\n",
       "      <td>{}</td>\n",
       "      <td>I would come in a shirt of hair\\nI would come with a lamp in the night\\nAnd sit at the foot of your stair;\\nI would flog myself until I bled,\\nAnd after hour on hour of prayer\\nAnd torture and delight\\nUntil my blood should ring the lamp\\nAnd glisten in the light;\\nI should arise your neophyte\\nAnd then put out the light\\nTo follow where you lead,\\nTo follow where your feet are white\\nIn the darkness toward your bed\\nAnd where your gown is white\\nAnd against your gown your braided hair.\\nThen you would take me in\\nBecause I was hideous in your sight\\nYou would take me in without shame\\nBecause I should be dead\\nAnd when the morning came\\nBetween your breasts should lie my head.\\nI would come with a towel in my hand\\nAnd bend your head beneath my knees;\\nYour ears curl back in a certain way\\nLike no one’s else in all the world.\\nWhen all the world shall melt in the sun,\\nMelt or freeze,\\nI shall remember how your ears were curled.\\nI should for a moment linger\\nAnd follow the curve with my finger\\nAnd your head beneath my knees---\\nI think that at last you would understand.\\nThere would be nothing more to say.\\nYou would love me because I should have strangled you\\nAnd because of my infamy;\\nAnd I should love you the more because I mangled you\\nAnd because you were no longer beautiful\\nTo anyone but me.</td>\n",
       "      <td>en</td>\n",
       "      <td>[{'label': 'neutral', 'score': 0.8386157487412785}, {'label': 'anger', 'score': 0.034018412280106616}, {'label': 'fear', 'score': 0.029909453924778513}]</td>\n",
       "    </tr>\n",
       "  </tbody>\n",
       "</table>\n",
       "</div>"
      ],
      "text/plain": [
       "                                   title   tag        artist  year  views  \\\n",
       "229913                 Until I Fall Away  rock  Gin Blossoms  1992  11257   \n",
       "178699                         Drag Open  rock         Women  2010   2128   \n",
       "167613                   Great Awakening  rock  Rise Against  2001   1411   \n",
       "61924                             Worthy    rb   Jacob Banks  2014  56091   \n",
       "128751  The Love Song of Saint Sebastian  misc    T.S. Eliot  1996   6914   \n",
       "\n",
       "       features  \\\n",
       "229913       {}   \n",
       "178699       {}   \n",
       "167613       {}   \n",
       "61924        {}   \n",
       "128751       {}   \n",
       "\n",
       "                                                                                                                                                                                                                                                                                                                                                                                                                                                                                                                                                                                                                                                                                                                                                                                                                                                                                                                                                                                                                                                                                                                                                                                                                                                                                                                                                                             lyrics  \\\n",
       "229913                                                                                                                                                                                                                                                                                                                                                                                                                                                                                                                       [Verse 1]\\nI want to tell if I am or I am not myself\\nIt's hard to know how far or if at all could go\\nWaiting far too long for something I forgot was wrong\\nI don't know all the answers I think that I'll find\\nOr have it within the time but it's all that I'll have in mind\\n\\n[Chorus]\\nUntil I fall away\\nThat won't keep us waiting long\\nUntil I fall away\\nI don't know what to do anymore\\nUntil I fall away\\n\\n[Verse 2]\\nMy fear pretend that I'll never be in love again\\nIt's real to me but not like these fools and not like this scene\\nI won't find or have it within the time\\nIf it's all rusted and fade in the spot where we fell\\nWhere I thought I'd left behind\\nIt's loose now but we could try\\n[Chorus]\\nWhen there's no good answers\\nTo those new questions\\nAnother personal disaster\\nThere's nowhere to go but down   \n",
       "178699                                                                                                                                                                                                                                                                                                                                                                                                                                                                                                                                                                                                                                                                                                                                                                                                                                                                                                                                                                                                                                       [Verse 1]\\nComing too far\\nAnd dragging vice\\nYour lungs expand\\nSo don't feel blue\\n\\n[Chorus]\\nShe did out your voice and lips\\nYou're such a drag open\\n\\n[Verse 2]\\nSit on your back\\nWe'll see this through\\nYour chartered trips\\nYou're smaller than sand\\n\\n[Chorus]\\nShe did out your voice and lips\\nYou're such a drag open   \n",
       "167613                                                                                                                                                                                                                                                                                                                                                                                                                                                                                                                                                                                                                                                                                                                      Buried words\\nUnder lights\\nSoundtrack to this stagnant life\\nThis meaning lost in translation\\nMessage sucked out of his hands again\\n\\nThis could be my great awakening\\nBut how would I know\\nCuz it's all noise to me\\nAre these words falling on deaf ears?\\n\\nStaring at the empty stares\\nRealize that he no longer cares about the wrong or right\\nThe downward spiral begins tonight\\n\\nAnd this could be my great awakening\\nBut how would I know cuz it's all noise to me\\nAre these words falling on deaf ears?\\n\\nAnd this could be my great awakening\\nBut how would I know cuz it's all noise to me\\nNothing I can do will make you hear   \n",
       "61924                                                                                                                                                                                                                                                                                                                                                                                                                     [Verse 1]\\nSuddenly the clouds have opened up\\nAnd I'm being seen in all of my glory\\nThe time has come for fate to decide\\nIf a part of me is even worthy\\nThe air is warm, my heart is cold\\nAnd I'll never know how it feels\\nThe air is warm, my heart is cold\\nAnd I'll never know how it feels\\nTo have a heart of gold\\n\\n[Chorus]\\nI feel worthy somehow\\nPlease, I don't want to go down, down\\nThe new world is calling me now\\nPlease don't let me go down, down\\nAnd I feel worthy somehow\\nPlease don't let me go down, down\\nThe new world is calling me now\\nPlease don't let me go down, down\\n[Verse 2]\\nJust one step unto the lonely road\\nHe scarred me for life\\nNo time to reflect as I was getting by\\nGetting by, enjoying life\\nThe time has come for judgment day\\nAnd I'm standing here, begging you\\nPlease take pity on me, take pity on me\\n\\n[Chorus]\\n\\n[Outro]\\nOh, please don't let me go down\\nI don't want to go down   \n",
       "128751  I would come in a shirt of hair\\nI would come with a lamp in the night\\nAnd sit at the foot of your stair;\\nI would flog myself until I bled,\\nAnd after hour on hour of prayer\\nAnd torture and delight\\nUntil my blood should ring the lamp\\nAnd glisten in the light;\\nI should arise your neophyte\\nAnd then put out the light\\nTo follow where you lead,\\nTo follow where your feet are white\\nIn the darkness toward your bed\\nAnd where your gown is white\\nAnd against your gown your braided hair.\\nThen you would take me in\\nBecause I was hideous in your sight\\nYou would take me in without shame\\nBecause I should be dead\\nAnd when the morning came\\nBetween your breasts should lie my head.\\nI would come with a towel in my hand\\nAnd bend your head beneath my knees;\\nYour ears curl back in a certain way\\nLike no one’s else in all the world.\\nWhen all the world shall melt in the sun,\\nMelt or freeze,\\nI shall remember how your ears were curled.\\nI should for a moment linger\\nAnd follow the curve with my finger\\nAnd your head beneath my knees---\\nI think that at last you would understand.\\nThere would be nothing more to say.\\nYou would love me because I should have strangled you\\nAnd because of my infamy;\\nAnd I should love you the more because I mangled you\\nAnd because you were no longer beautiful\\nTo anyone but me.   \n",
       "\n",
       "       language  \\\n",
       "229913       en   \n",
       "178699       en   \n",
       "167613       en   \n",
       "61924        en   \n",
       "128751       en   \n",
       "\n",
       "                                                                                                                                                        top_sentiments  \n",
       "229913    [{'label': 'confusion', 'score': 0.3406164521002825}, {'label': 'sadness', 'score': 0.19732452538029605}, {'label': 'neutral', 'score': 0.1937919501045029}]  \n",
       "178699   [{'label': 'neutral', 'score': 0.932255245221613}, {'label': 'admiration', 'score': 0.014204346628701231}, {'label': 'anger', 'score': 0.012642718006340908}]  \n",
       "167613  [{'label': 'neutral', 'score': 0.3012570877334345}, {'label': 'confusion', 'score': 0.22377696832894087}, {'label': 'surprise', 'score': 0.18164260772861446}]  \n",
       "61924          [{'label': 'neutral', 'score': 0.376521825651974}, {'label': 'desire', 'score': 0.2036650365329073}, {'label': 'sadness', 'score': 0.1566506865188695}]  \n",
       "128751        [{'label': 'neutral', 'score': 0.8386157487412785}, {'label': 'anger', 'score': 0.034018412280106616}, {'label': 'fear', 'score': 0.029909453924778513}]  "
      ]
     },
     "execution_count": 142,
     "metadata": {},
     "output_type": "execute_result"
    }
   ],
   "source": [
    "ds_sample.head()"
   ]
  },
  {
   "cell_type": "code",
   "execution_count": 153,
   "id": "cb9bfa6d-06f4-4a2e-ac40-709b1b149e2e",
   "metadata": {},
   "outputs": [
    {
     "name": "stdout",
     "output_type": "stream",
     "text": [
      "                                                                                                                                                   top_sentiments  \\\n",
      "0    [{'label': 'confusion', 'score': 0.3406164521002825}, {'label': 'sadness', 'score': 0.19732452538029605}, {'label': 'neutral', 'score': 0.1937919501045029}]   \n",
      "1   [{'label': 'neutral', 'score': 0.932255245221613}, {'label': 'admiration', 'score': 0.014204346628701231}, {'label': 'anger', 'score': 0.012642718006340908}]   \n",
      "2  [{'label': 'neutral', 'score': 0.3012570877334345}, {'label': 'confusion', 'score': 0.22377696832894087}, {'label': 'surprise', 'score': 0.18164260772861446}]   \n",
      "3         [{'label': 'neutral', 'score': 0.376521825651974}, {'label': 'desire', 'score': 0.2036650365329073}, {'label': 'sadness', 'score': 0.1566506865188695}]   \n",
      "4        [{'label': 'neutral', 'score': 0.8386157487412785}, {'label': 'anger', 'score': 0.034018412280106616}, {'label': 'fear', 'score': 0.029909453924778513}]   \n",
      "\n",
      "  dominant_sentiment  \n",
      "0          confusion  \n",
      "1            neutral  \n",
      "2            neutral  \n",
      "3            neutral  \n",
      "4            neutral  \n"
     ]
    }
   ],
   "source": [
    "# Generate 'dominant_sentiment' from 'top_sentiments'\n",
    "ds_sample['dominant_sentiment'] = ds_sample['top_sentiments'].apply(\n",
    "    lambda x: x[0]['label'] if isinstance(x, list) and len(x) > 0 and isinstance(x[0], dict) and 'label' in x[0] else None\n",
    ")\n",
    "\n",
    "# Verify the output\n",
    "print(ds_sample[['top_sentiments', 'dominant_sentiment']].head())"
   ]
  },
  {
   "cell_type": "code",
   "execution_count": 154,
   "id": "aab10eb9-bc00-403a-856f-a891e169f701",
   "metadata": {},
   "outputs": [
    {
     "name": "stdout",
     "output_type": "stream",
     "text": [
      "Results saved to ds_sample.csv\n"
     ]
    }
   ],
   "source": [
    "# DataFrame to ds_sample.csv\n",
    "ds_sample.to_csv(\"ds_sample.csv\", index=False)\n",
    "\n",
    "print(\"Results saved to ds_sample.csv\")"
   ]
  },
  {
   "cell_type": "code",
   "execution_count": 155,
   "id": "fd6128da-e200-4565-b71d-299ce95da027",
   "metadata": {},
   "outputs": [
    {
     "name": "stdout",
     "output_type": "stream",
     "text": [
      "Index(['title', 'tag', 'artist', 'year', 'views', 'features', 'lyrics',\n",
      "       'language', 'top_sentiments', 'dominant_sentiment'],\n",
      "      dtype='object')\n"
     ]
    }
   ],
   "source": [
    "print(ds_sample.columns)"
   ]
  },
  {
   "cell_type": "code",
   "execution_count": 156,
   "id": "3a598e0c-db8a-4764-a334-70907ec0e6e3",
   "metadata": {},
   "outputs": [
    {
     "name": "stdout",
     "output_type": "stream",
     "text": [
      "Models and data loaded successfully!\n"
     ]
    }
   ],
   "source": [
    "# Correct required_columns to match the actual column names in ds_sample\n",
    "required_columns = ['title', 'artist', 'year', 'dominant_sentiment', 'lyrics', 'top_sentiments','tag','views','features','language']\n",
    "\n",
    "# Validation step\n",
    "if not all(col in ds_sample.columns for col in required_columns):\n",
    "    raise ValueError(f\"Missing required columns in ds_sample.csv. Expected columns: {required_columns}\")\n",
    "\n",
    "print(\"Models and data loaded successfully!\")"
   ]
  },
  {
   "cell_type": "code",
   "execution_count": 162,
   "id": "fc182341-bbbe-424f-a2a2-1a2f91cafcc0",
   "metadata": {},
   "outputs": [
    {
     "name": "stdout",
     "output_type": "stream",
     "text": [
      "Loading models and data...\n",
      "Models and data loaded successfully!\n"
     ]
    },
    {
     "data": {
      "text/plain": [
       "'# Define the API endpoint\\n@app.route(\\'/recommend\\', methods=[\\'POST\\'])\\ndef recommend_song():\\n    try:\\n        # Get uploaded image\\n        if \\'image\\' not in request.files:\\n            return jsonify({\"error\": \"No image uploaded\"}), 400\\n        \\n        file = request.files[\\'image\\']\\n        image = Image.open(file)\\n        \\n        # Process image using the pipeline\\n        caption, image_sentiment, matching_song = image_to_song_pipeline(image, ds_sample)\\n        \\n        # Prepare and return the response\\n        response = {\\n            \"caption\": caption,\\n            \"image_sentiment\": image_sentiment,\\n            \"song\": matching_song[[\\'title\\', \\'artist\\', \\'year\\', \\'dominant_sentiment\\']].to_dict(orient=\\'records\\') if matching_song is not None else None\\n        }\\n        return jsonify(response)\\n    \\n    except Exception as e:\\n        print(\"Error:\", e)\\n        return jsonify({\"error\": str(e)}), 500\\n\\n# Run the Flask app\\nif __name__ == \\'__main__\\':\\n    app.run(debug=True, host=\"0.0.0.0\", port=5000)'"
      ]
     },
     "execution_count": 162,
     "metadata": {},
     "output_type": "execute_result"
    }
   ],
   "source": [
    "from flask import Flask, request, jsonify\n",
    "from transformers import BlipProcessor, BlipForConditionalGeneration, pipeline\n",
    "from PIL import Image\n",
    "import pandas as pd\n",
    "import torch\n",
    "\n",
    "# If using flask \n",
    "\"\"\"# Initialize Flask app \n",
    " app = Flask(__name__)\"\"\"\n",
    "\n",
    "# Models and preprocessed song data\n",
    "print(\"Loading models and data...\")\n",
    "blip_processor = BlipProcessor.from_pretrained(\"Salesforce/blip-image-captioning-large\")\n",
    "blip_model = BlipForConditionalGeneration.from_pretrained(\"Salesforce/blip-image-captioning-large\")\n",
    "classifier = pipeline(\"text-classification\", model=\"SamLowe/roberta-base-go_emotions\", top_k=None, device=0)\n",
    "ds_sample = pd.read_csv(\"ds_sample.csv\")  # Ensure the CSV contains the preprocessed 'dominant_sentiment' column\n",
    "print(\"Models and data loaded successfully!\")\n",
    "\n",
    "# Definiing modular pipeline functions\n",
    "def generate_caption(image, max_new_tokens=50):\n",
    "    inputs = blip_processor(image, return_tensors=\"pt\")\n",
    "    with torch.no_grad():\n",
    "        output = blip_model.generate(**inputs, max_new_tokens=max_new_tokens)\n",
    "    return blip_processor.decode(output[0], skip_special_tokens=True)\n",
    "\n",
    "def analyze_caption_sentiment(caption, top_n=3):\n",
    "    predictions = classifier(caption)[0]\n",
    "    custom_predictions = [\n",
    "        {\"label\": custom_label_mapping[pred[\"label\"]], \"score\": pred[\"score\"]}\n",
    "        for pred in predictions if custom_label_mapping.get(pred[\"label\"])\n",
    "    ]\n",
    "    total_score = sum(pred[\"score\"] for pred in custom_predictions)\n",
    "    for pred in custom_predictions:\n",
    "        pred[\"score\"] /= total_score\n",
    "    return sorted(custom_predictions, key=lambda x: x[\"score\"], reverse=True)[:top_n]\n",
    "\n",
    "import random\n",
    "\n",
    "def find_matching_song(image_sentiment, ds_sample, top_n=3):\n",
    "    # Get the top sentiments from image_sentiment\n",
    "    top_sentiments = [sent[\"label\"] for sent in image_sentiment[:top_n]]\n",
    "\n",
    "    # Filter songs with matching sentiments\n",
    "    matching_songs = ds_sample[ds_sample['dominant_sentiment'].isin(top_sentiments)].copy()\n",
    "\n",
    "    if not matching_songs.empty:\n",
    "        # Assign a match score based on top_sentiments ranking\n",
    "        matching_songs['match_score'] = matching_songs['dominant_sentiment'].apply(\n",
    "            lambda x: top_sentiments.index(x) if x in top_sentiments else len(top_sentiments)\n",
    "        )\n",
    "        \n",
    "        # Randomly choose one song, with better scores more likely to be chosen\n",
    "        return matching_songs.sample(n=1, weights=1 / (matching_songs['match_score'] + 1))\n",
    "    \n",
    "    return None\n",
    "\n",
    "def image_to_song_pipeline(image, ds_sample, max_new_tokens=50, top_n=3):\n",
    "    caption = generate_caption(image, max_new_tokens)\n",
    "    image_sentiment = analyze_caption_sentiment(caption, top_n)\n",
    "    matching_song = find_matching_song(image_sentiment, ds_sample)\n",
    "    return caption, image_sentiment, matching_song\n",
    "\n",
    "\"\"\"# Define the API endpoint\n",
    "@app.route('/recommend', methods=['POST'])\n",
    "def recommend_song():\n",
    "    try:\n",
    "        # Get uploaded image\n",
    "        if 'image' not in request.files:\n",
    "            return jsonify({\"error\": \"No image uploaded\"}), 400\n",
    "        \n",
    "        file = request.files['image']\n",
    "        image = Image.open(file)\n",
    "        \n",
    "        # Process image using the pipeline\n",
    "        caption, image_sentiment, matching_song = image_to_song_pipeline(image, ds_sample)\n",
    "        \n",
    "        # Prepare and return the response\n",
    "        response = {\n",
    "            \"caption\": caption,\n",
    "            \"image_sentiment\": image_sentiment,\n",
    "            \"song\": matching_song[['title', 'artist', 'year', 'dominant_sentiment']].to_dict(orient='records') if matching_song is not None else None\n",
    "        }\n",
    "        return jsonify(response)\n",
    "    \n",
    "    except Exception as e:\n",
    "        print(\"Error:\", e)\n",
    "        return jsonify({\"error\": str(e)}), 500\n",
    "\n",
    "# Run the Flask app\n",
    "if __name__ == '__main__':\n",
    "    app.run(debug=True, host=\"0.0.0.0\", port=5000)\"\"\"\n"
   ]
  },
  {
   "cell_type": "code",
   "execution_count": 163,
   "id": "8609e97b-75c7-4777-9eab-cea7bc893cea",
   "metadata": {},
   "outputs": [
    {
     "name": "stdout",
     "output_type": "stream",
     "text": [
      "Generated Caption: two women are smiling and posing for a picture in a restaurant\n",
      "Image Sentiment: [{'label': 'joy', 'score': 0.5492992628041324}, {'label': 'neutral', 'score': 0.28157976434394966}, {'label': 'joy', 'score': 0.05477567056771794}]\n",
      "Matching Song:\n",
      "                   title    artist  year dominant_sentiment\n",
      "709  Northern Chaos Gods  Immortal  2018            neutral\n"
     ]
    }
   ],
   "source": [
    "from PIL import Image\n",
    "\n",
    "# Test image path\n",
    "test_image_path = \"/Users/kiaracueva/Desktop/Screenshots/Screen Shot 2023-03-10 at 12.07.05 AM.png\" # Replace with a valid image file path\n",
    "\n",
    "# Open the test image\n",
    "image = Image.open(test_image_path)\n",
    "\n",
    "# Run the pipeline\n",
    "caption, image_sentiment, matching_song = image_to_song_pipeline(image, ds_sample)\n",
    "\n",
    "# Print the results\n",
    "print(\"Generated Caption:\", caption)\n",
    "print(\"Image Sentiment:\", image_sentiment)\n",
    "if matching_song is not None:\n",
    "    print(\"Matching Song:\")\n",
    "    print(matching_song[['title', 'artist', 'year', 'dominant_sentiment']])\n",
    "else:\n",
    "    print(\"No matching song found.\")\n"
   ]
  },
  {
   "cell_type": "code",
   "execution_count": null,
   "id": "6635c849-34dc-4281-8f94-ab43916d89b7",
   "metadata": {},
   "outputs": [],
   "source": []
  }
 ],
 "metadata": {
  "kernelspec": {
   "display_name": "Python 3 (ipykernel)",
   "language": "python",
   "name": "python3"
  },
  "language_info": {
   "codemirror_mode": {
    "name": "ipython",
    "version": 3
   },
   "file_extension": ".py",
   "mimetype": "text/x-python",
   "name": "python",
   "nbconvert_exporter": "python",
   "pygments_lexer": "ipython3",
   "version": "3.11.7"
  }
 },
 "nbformat": 4,
 "nbformat_minor": 5
}
